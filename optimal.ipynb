{
 "cells": [
  {
   "cell_type": "markdown",
   "source": [
    "# Ноутбук вычисляет, какой шмот, при заданном коэффициенте загрузки, нужно надеть, чтобы максимизировать один из параметров"
   ],
   "metadata": {
    "collapsed": false,
    "pycharm": {
     "name": "#%% md\n"
    }
   }
  },
  {
   "cell_type": "code",
   "execution_count": 26,
   "outputs": [],
   "source": [
    "import functools\n",
    "import os.path\n",
    "import pickle\n",
    "import typing\n",
    "\n",
    "import pandas as pd\n",
    "# noinspection PyPackageRequirements\n",
    "import typing\n",
    "from google.auth.transport.requests import Request\n",
    "from google_auth_oauthlib.flow import InstalledAppFlow\n",
    "# noinspection PyPackageRequirements\n",
    "from googleapiclient.discovery import build\n",
    "\n",
    "# If modifying these scopes, delete the file token.pickle.\n",
    "SCOPES = ['https://www.googleapis.com/auth/spreadsheets.readonly']\n",
    "SPREADSHEET_ID = '12shYYOLyU4PpdEyw5-ObvLhgRP6aggUgrIfpGA-BWIE'\n",
    "CELLS_RANGE = 'A:N'\n",
    "SHEET_NAMES = 'Голова Тело Руки Ноги'.split()\n",
    "RANGES = ['{}!{}'.format(sheet, CELLS_RANGE) for sheet in SHEET_NAMES]\n",
    "\n",
    "\n",
    "def get_list_of_lists_of_items_grouped_by_type():\n",
    "    sheet = _get_sheet()\n",
    "    list_of_lists_of_items_grouped_by_type = list(\n",
    "        sheet.get(\n",
    "            spreadsheetId=SPREADSHEET_ID,\n",
    "            range=_range\n",
    "        ).execute().get('values', []) for _range in RANGES\n",
    "    )\n",
    "    \n",
    "    return list_of_lists_of_items_grouped_by_type\n",
    "\n",
    "\n",
    "def find_top_combo(column_name: str):\n",
    "    combos = list(_combo_gen(list(map(\n",
    "        lambda item: item[1:],\n",
    "        LIST_OF_LISTS_OF_ITEMS_GROUPED_BY_TYPE,\n",
    "    ))))\n",
    "    combo_target_sums = _calculate_combo_sums(\n",
    "        combos, COLUMN_NAMES_TO_NUMBERS[column_name],\n",
    "    )\n",
    "    combos_mass_sums = _calculate_combo_sums(\n",
    "        combos, COLUMN_NAMES_TO_NUMBERS['Вес'],\n",
    "    )\n",
    "    combos_to_target_sums_to_mass_sums = list(zip(\n",
    "        combos, combo_target_sums, combos_mass_sums,\n",
    "    ))\n",
    "    limit = round(MASS_LEFT_TO_100 * MASS_COEFFICIENT, 1)\n",
    "    combos_lower_than_limit = list(filter(\n",
    "        lambda cfm: cfm[2] < limit,\n",
    "        combos_to_target_sums_to_mass_sums,\n",
    "    ))\n",
    "    top_combo = max(combos_lower_than_limit, key=lambda cfm: cfm[1])\n",
    "    \n",
    "    return top_combo\n",
    "\n",
    "\n",
    "def _get_sheet():\n",
    "    \"\"\"https://developers.google.com/sheets/api/quickstart/python.\"\"\"\n",
    "    creds = None\n",
    "    # The file token.pickle stores the user's access and refresh tokens, and is\n",
    "    # created automatically when the authorization flow completes for the first\n",
    "    # time.\n",
    "    if os.path.exists('token.pickle'):\n",
    "        with open('token.pickle', 'rb') as token:\n",
    "            creds = pickle.load(token)\n",
    "    # If there are no (valid) credentials available, let the user log in.\n",
    "    if not creds or not creds.valid:\n",
    "        if creds and creds.expired and creds.refresh_token:\n",
    "            creds.refresh(Request())\n",
    "        else:\n",
    "            flow = InstalledAppFlow.from_client_secrets_file(\n",
    "                'credentials.json', SCOPES)\n",
    "            creds = flow.run_local_server()\n",
    "        # Save the credentials for the next run\n",
    "        with open('token.pickle', 'wb') as token:\n",
    "            pickle.dump(creds, token)\n",
    "    service = build('sheets', 'v4', credentials=creds)\n",
    "    # Call the Sheets API\n",
    "    sheet = service.spreadsheets()\n",
    "    return sheet.values()\n",
    "\n",
    "\n",
    "def _combo_gen(list_of_lists_of_items: typing.Collection):\n",
    "    \"\"\"\n",
    "    >>> list(\n",
    "    ... _combo_gen([[1,2], [3,4], [5,6,7]]))  # doctest: +NORMALIZE_WHITESPACE\n",
    "    [[1, 3, 5], [1, 3, 6], [1, 3, 7], [1, 4, 5], [1, 4, 6], [1, 4, 7],\n",
    "    [2, 3, 5], [2, 3, 6], [2, 3, 7], [2, 4, 5], [2, 4, 6], [2, 4, 7]]\n",
    "    \"\"\"\n",
    "    ranges_count = len(list_of_lists_of_items)\n",
    "    ranges_lens = list(map(len, list_of_lists_of_items))\n",
    "    cursors = [0 for _ in list_of_lists_of_items]\n",
    "\n",
    "    while True:\n",
    "        positions_to_ranges = zip(cursors, list_of_lists_of_items)\n",
    "        combo = [\n",
    "            position_to_range[1][position_to_range[0]]\n",
    "            for position_to_range in positions_to_ranges\n",
    "        ]\n",
    "        yield combo\n",
    "\n",
    "        top_range = -ranges_count - 1\n",
    "        for range_number, rightmost_cursor in zip(\n",
    "                range(-1, top_range, -1), cursors[::-1]\n",
    "        ):\n",
    "            rightmost_cursor += 1\n",
    "            range_len = ranges_lens[range_number]\n",
    "\n",
    "            if rightmost_cursor < range_len:\n",
    "                cursors[range_number] += 1\n",
    "                break\n",
    "            else:\n",
    "                if range_number == top_range + 1:\n",
    "                    return\n",
    "                cursors[range_number] = 0\n",
    "\n",
    "\n",
    "def _calculate_combo_sums(combos, column_number):\n",
    "    return map(\n",
    "        lambda x: round(x, 2), map(\n",
    "            lambda combo: functools.reduce(\n",
    "                lambda acc, el: acc + float(el[column_number]), combo, 0,\n",
    "            ),\n",
    "            combos,\n",
    "       )\n",
    "    )\n"
   ],
   "metadata": {
    "collapsed": false,
    "pycharm": {
     "name": "#%%\n",
     "is_executing": false
    }
   }
  },
  {
   "cell_type": "code",
   "execution_count": 27,
   "outputs": [],
   "source": [
    "LIST_OF_LISTS_OF_ITEMS_GROUPED_BY_TYPE = (\n",
    "    get_list_of_lists_of_items_grouped_by_type()\n",
    ")\n",
    "# noinspection PyTypeChecker\n",
    "COLUMN_NAMES_TO_NUMBERS = dict(map(\n",
    "    lambda num_name: reversed(num_name),\n",
    "    enumerate(LIST_OF_LISTS_OF_ITEMS_GROUPED_BY_TYPE[0][0]),\n",
    "))\n"
   ],
   "metadata": {
    "collapsed": false,
    "pycharm": {
     "name": "#%%\n",
     "is_executing": false
    }
   }
  },
  {
   "cell_type": "markdown",
   "source": [
    "# Сколько массы осталось до полного загруза"
   ],
   "metadata": {
    "collapsed": false,
    "pycharm": {
     "name": "#%% md\n"
    }
   }
  },
  {
   "cell_type": "code",
   "execution_count": 29,
   "outputs": [],
   "source": [
    "MASS_LEFT_TO_100 = 100.5 - 6 - 4"
   ],
   "metadata": {
    "collapsed": false,
    "pycharm": {
     "name": "#%%\n",
     "is_executing": false
    }
   }
  },
  {
   "cell_type": "markdown",
   "source": [
    "# Каков будет процент загрузки от полной"
   ],
   "metadata": {
    "collapsed": false,
    "pycharm": {
     "name": "#%% md\n"
    }
   }
  },
  {
   "cell_type": "code",
   "execution_count": null,
   "outputs": [],
   "source": [
    "MASS_COEFFICIENT = 0.25"
   ],
   "metadata": {
    "collapsed": false,
    "pycharm": {
     "name": "#%%\n"
    }
   }
  },
  {
   "cell_type": "code",
   "execution_count": 30,
   "outputs": [],
   "source": [
    "top_names = COLUMN_NAMES_TO_NUMBERS.keys()[1:-1]\n",
    "tops = {\n",
    "    name: find_top_combo(name)\n",
    "    for name in top_names\n",
    "}"
   ],
   "metadata": {
    "collapsed": false,
    "pycharm": {
     "name": "#%%\n",
     "is_executing": false
    }
   }
  },
  {
   "cell_type": "code",
   "execution_count": 39,
   "outputs": [],
   "source": [
    "column_names = SHEET_NAMES + ['Сумма']\n",
    "df_values = list(map(\n",
    "    lambda item: (*[i[0] for i in item[0]], item[1]),\n",
    "    tops.values(),\n",
    "))\n",
    "df = pd.DataFrame(\n",
    "    data=df_values,\n",
    "    index=top_names,\n",
    "    columns=column_names,\n",
    ")"
   ],
   "metadata": {
    "collapsed": false,
    "pycharm": {
     "name": "#%%\n",
     "is_executing": false
    }
   }
  },
  {
   "cell_type": "markdown",
   "source": [
    "# Полная таблица топовых наборов"
   ],
   "metadata": {
    "collapsed": false,
    "pycharm": {
     "name": "#%% md\n"
    }
   }
  },
  {
   "cell_type": "code",
   "execution_count": 38,
   "outputs": [
    {
     "data": {
      "text/plain": "                                 Голова                      Тело  \\\nФизическая              Маска хранителя     Катаринский доспех +2   \nУдар                   Катаринский шлем     Катаринский доспех +2   \nРезкий                    Шлем горгульи     Катаринский доспех +2   \nВыпад                   Маска хранителя     Катаринский доспех +2   \nМагия                     Шлем горгульи               Алая рубаха   \nОгонь         Рваный матерчатый капюшон  Рваная матерчатая куртка   \nМолния                    Шлем горгульи           Тусклая накидка   \nБаланс                            Мешок             Доспех Хавела   \nКровотечение              Шлем горгульи               Куртка тени   \nОтравление    Рваный матерчатый капюшон  Рваная матерчатая куртка   \nПроклятье               Тусклый капюшон           Тусклая накидка   \nПрочность                   Шлем Хавела  Рваная матерчатая куртка   \n\n                                   Руки                      Ноги   Сумма  \nФизическая    Наручи серебряного рыцаря              Алая юбка +1   136.1  \nУдар                  Наручи разбойника              Алая юбка +1   138.9  \nРезкий        Наручи элитного рыцаря +1              Алая юбка +1   151.3  \nВыпад         Наручи серебряного рыцаря              Алая юбка +1   135.6  \nМагия                     Наручи Хавела              Алая юбка +1   111.3  \nОгонь          Наручи из чёрного железа  Поножи из чёрного железа   102.0  \nМолния                    Наручи Хавела              Алая юбка +1    91.7  \nБаланс                    Алые перчатки       Юбка полого солдата    54.0  \nКровотечение              Наручи Хавела        Окровавленная юбка   117.0  \nОтравление      Рваные матерчатые краги            Тяжёлые сапоги   152.0  \nПроклятье              Тусклые перчатки        Окровавленная юбка    87.0  \nПрочность                 Алые перчатки             Поножи Хавела  2600.0  ",
      "text/html": "<div>\n<style scoped>\n    .dataframe tbody tr th:only-of-type {\n        vertical-align: middle;\n    }\n\n    .dataframe tbody tr th {\n        vertical-align: top;\n    }\n\n    .dataframe thead th {\n        text-align: right;\n    }\n</style>\n<table border=\"1\" class=\"dataframe\">\n  <thead>\n    <tr style=\"text-align: right;\">\n      <th></th>\n      <th>Голова</th>\n      <th>Тело</th>\n      <th>Руки</th>\n      <th>Ноги</th>\n      <th>Сумма</th>\n    </tr>\n  </thead>\n  <tbody>\n    <tr>\n      <th>Физическая</th>\n      <td>Маска хранителя</td>\n      <td>Катаринский доспех +2</td>\n      <td>Наручи серебряного рыцаря</td>\n      <td>Алая юбка +1</td>\n      <td>136.1</td>\n    </tr>\n    <tr>\n      <th>Удар</th>\n      <td>Катаринский шлем</td>\n      <td>Катаринский доспех +2</td>\n      <td>Наручи разбойника</td>\n      <td>Алая юбка +1</td>\n      <td>138.9</td>\n    </tr>\n    <tr>\n      <th>Резкий</th>\n      <td>Шлем горгульи</td>\n      <td>Катаринский доспех +2</td>\n      <td>Наручи элитного рыцаря +1</td>\n      <td>Алая юбка +1</td>\n      <td>151.3</td>\n    </tr>\n    <tr>\n      <th>Выпад</th>\n      <td>Маска хранителя</td>\n      <td>Катаринский доспех +2</td>\n      <td>Наручи серебряного рыцаря</td>\n      <td>Алая юбка +1</td>\n      <td>135.6</td>\n    </tr>\n    <tr>\n      <th>Магия</th>\n      <td>Шлем горгульи</td>\n      <td>Алая рубаха</td>\n      <td>Наручи Хавела</td>\n      <td>Алая юбка +1</td>\n      <td>111.3</td>\n    </tr>\n    <tr>\n      <th>Огонь</th>\n      <td>Рваный матерчатый капюшон</td>\n      <td>Рваная матерчатая куртка</td>\n      <td>Наручи из чёрного железа</td>\n      <td>Поножи из чёрного железа</td>\n      <td>102.0</td>\n    </tr>\n    <tr>\n      <th>Молния</th>\n      <td>Шлем горгульи</td>\n      <td>Тусклая накидка</td>\n      <td>Наручи Хавела</td>\n      <td>Алая юбка +1</td>\n      <td>91.7</td>\n    </tr>\n    <tr>\n      <th>Баланс</th>\n      <td>Мешок</td>\n      <td>Доспех Хавела</td>\n      <td>Алые перчатки</td>\n      <td>Юбка полого солдата</td>\n      <td>54.0</td>\n    </tr>\n    <tr>\n      <th>Кровотечение</th>\n      <td>Шлем горгульи</td>\n      <td>Куртка тени</td>\n      <td>Наручи Хавела</td>\n      <td>Окровавленная юбка</td>\n      <td>117.0</td>\n    </tr>\n    <tr>\n      <th>Отравление</th>\n      <td>Рваный матерчатый капюшон</td>\n      <td>Рваная матерчатая куртка</td>\n      <td>Рваные матерчатые краги</td>\n      <td>Тяжёлые сапоги</td>\n      <td>152.0</td>\n    </tr>\n    <tr>\n      <th>Проклятье</th>\n      <td>Тусклый капюшон</td>\n      <td>Тусклая накидка</td>\n      <td>Тусклые перчатки</td>\n      <td>Окровавленная юбка</td>\n      <td>87.0</td>\n    </tr>\n    <tr>\n      <th>Прочность</th>\n      <td>Шлем Хавела</td>\n      <td>Рваная матерчатая куртка</td>\n      <td>Алые перчатки</td>\n      <td>Поножи Хавела</td>\n      <td>2600.0</td>\n    </tr>\n  </tbody>\n</table>\n</div>"
     },
     "metadata": {},
     "output_type": "execute_result",
     "execution_count": 38
    }
   ],
   "source": [
    "df\n"
   ],
   "metadata": {
    "collapsed": false,
    "pycharm": {
     "name": "#%%\n",
     "is_executing": false
    }
   }
  }
 ],
 "metadata": {
  "language_info": {
   "codemirror_mode": {
    "name": "ipython",
    "version": 2
   },
   "file_extension": ".py",
   "mimetype": "text/x-python",
   "name": "python",
   "nbconvert_exporter": "python",
   "pygments_lexer": "ipython2",
   "version": "2.7.6"
  },
  "kernelspec": {
   "name": "python3",
   "language": "python",
   "display_name": "Python 3"
  },
  "pycharm": {
   "stem_cell": {
    "cell_type": "raw",
    "source": [],
    "metadata": {
     "collapsed": false
    }
   }
  }
 },
 "nbformat": 4,
 "nbformat_minor": 0
}